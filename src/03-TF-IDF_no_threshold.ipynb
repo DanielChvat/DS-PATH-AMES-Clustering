{
 "cells": [
  {
   "cell_type": "code",
   "execution_count": 1,
   "id": "aa1c4c43",
   "metadata": {},
   "outputs": [],
   "source": [
    "from sklearn.feature_extraction.text import TfidfVectorizer\n",
    "import numpy as np\n",
    "import pandas as pd\n",
    "import pickle\n",
    "\n",
    "data = pd.read_csv('df_processed.csv')\n",
    "\n",
    "# data1 = data.head(1000)\n",
    "corpus = []\n",
    "\n",
    "for i in range(len(data)):\n",
    "    l = data.sentence[i]\n",
    "    l = l.replace('\\\\','')\n",
    "    corpus.append(l)\n",
    "\n",
    "# print(corpus)\n",
    "vec = TfidfVectorizer(stop_words='english', lowercase = True)\n",
    "# vec = TfidfVectorizer(stop_words='english', lowercase = True, max_df = 0.5, min_df = 0.003)\n",
    "matrix = vec.fit_transform(corpus).toarray()"
   ]
  },
  {
   "cell_type": "code",
   "execution_count": 2,
   "id": "1b3ea177",
   "metadata": {},
   "outputs": [
    {
     "name": "stdout",
     "output_type": "stream",
     "text": [
      "(2334122, 581)\n"
     ]
    }
   ],
   "source": [
    "# print(\"Feature Names n\",vec.get_feature_names_out())\n",
    "print(matrix.shape)\n",
    "tfidf = pd.DataFrame(matrix, columns = vec.get_feature_names_out())"
   ]
  },
  {
   "cell_type": "code",
   "execution_count": null,
   "id": "cac06e24",
   "metadata": {
    "scrolled": true
   },
   "outputs": [],
   "source": [
    "f = open('tfidf_scores.pkl', 'w')\n",
    "pickle.dump(tfidf, f)\n",
    "f.close()"
   ]
  }
 ],
 "metadata": {
  "kernelspec": {
   "display_name": "Python 3 (ipykernel)",
   "language": "python",
   "name": "python3"
  },
  "language_info": {
   "codemirror_mode": {
    "name": "ipython",
    "version": 3
   },
   "file_extension": ".py",
   "mimetype": "text/x-python",
   "name": "python",
   "nbconvert_exporter": "python",
   "pygments_lexer": "ipython3",
   "version": "3.10.9"
  }
 },
 "nbformat": 4,
 "nbformat_minor": 5
}
